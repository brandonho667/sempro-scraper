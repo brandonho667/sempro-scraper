{
 "cells": [
  {
   "cell_type": "code",
   "execution_count": 2,
   "metadata": {},
   "outputs": [
    {
     "name": "stdout",
     "output_type": "stream",
     "text": [
      "5971\n"
     ]
    }
   ],
   "source": [
    "import glob\n",
    "directory = \"./sem\"\n",
    "pathname = directory + \"/**/*.jpeg\"\n",
    "files_jpeg = glob.glob(pathname, recursive=True)\n",
    "pathname = directory + \"/**/*.jpg\"\n",
    "files_jpg = glob.glob(pathname, recursive=True)\n",
    "print(len(files_jpeg) + len(files_jpg))"
   ]
  }
 ],
 "metadata": {
  "interpreter": {
   "hash": "d11952a7ab3b5f5e44b763242e368732be4e7c92c03f1d79e2a64b923b956413"
  },
  "kernelspec": {
   "display_name": "Python 3.8.3 64-bit",
   "name": "python3"
  },
  "language_info": {
   "codemirror_mode": {
    "name": "ipython",
    "version": 3
   },
   "file_extension": ".py",
   "mimetype": "text/x-python",
   "name": "python",
   "nbconvert_exporter": "python",
   "pygments_lexer": "ipython3",
   "version": "3.8.3"
  },
  "orig_nbformat": 4
 },
 "nbformat": 4,
 "nbformat_minor": 2
}
